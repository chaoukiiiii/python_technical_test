{
 "cells": [
  {
   "cell_type": "code",
   "execution_count": 1,
   "metadata": {},
   "outputs": [],
   "source": [
    "import pandas as pd\n",
    "import pandas as pd\n",
    "import codecs\n",
    "import re\n",
    "import os\n",
    "import json\n",
    "\n",
    "\n",
    "\n",
    "def clean_df(df, data_src_config: dict):\n",
    "    \"\"\"\n",
    "    clean dataframe based of json config source file\n",
    "    \"\"\"\n",
    "    if \"no_nansvalue\" in data_src_config.keys():\n",
    "        df = filter_nans(df, data_src_config[\"no_nansvalue\"])\n",
    "    if \"remove_special_char\" in data_src_config.keys():\n",
    "        df = remove_special_char(df, data_src_config[\"remove_special_char\"][\"columns\"])\n",
    "    if \"columns_type\" in data_src_config.keys():\n",
    "        for column_name, column_type in data_src_config[\"columns_type\"].items():\n",
    "            df = cast_column(df, column_name, column_type)\n",
    "    if \"rename_columns\" in data_src_config.keys():\n",
    "        for column_init_name, column_new_name in data_src_config[\"rename_columns\"].items():\n",
    "            df = rename_column(df, column_init_name, column_new_name)\n",
    "    return df\n",
    "\n",
    "\n",
    "def rename_column(df, column_i_name, column_n_name):\n",
    "    \"\"\"\n",
    "    Rename column in dataframe\n",
    "    \"\"\"\n",
    "    df = df.rename(columns={column_i_name: column_n_name})\n",
    "    return df\n",
    "\n",
    "\n",
    "def cast_column(df, column_name, column_type):\n",
    "    \"\"\"\n",
    "    Cast column in dataframe\n",
    "    \"\"\"\n",
    "    if column_type == \"date\":\n",
    "        df[column_name] = pd.to_datetime(df[column_name])\n",
    "    else:\n",
    "        df[column_name] = df[column_name].astype(column_type)\n",
    "    return df\n",
    "\n",
    "\n",
    "def filter_nans(df, columns):\n",
    "    \"\"\"\n",
    "    filter rows that contain nan\n",
    "    \"\"\"\n",
    "    df = df.dropna(subset=columns)\n",
    "    return df\n",
    "\n",
    "\n",
    "def remove_special_char(df, list_columns):\n",
    "    \"\"\"\n",
    "    Remove and treat special character from a subset of columns\n",
    "    \"\"\"\n",
    "    for colname in list_columns:\n",
    "        df[colname].apply(lambda x: remove_str_special_char(x))\n",
    "    return df\n",
    "\n",
    "\n",
    "def remove_str_special_char(in_str: str) -> str:\n",
    "    \"\"\"\n",
    "    replace special char in input string with empty str\n",
    "    \"\"\"\n",
    "    f_str = in_str\n",
    "    try:\n",
    "        in_str = unidecode.unidecode(in_str)\n",
    "        in_str = codecs.decode(in_str, \"unicode_escape\")\n",
    "        f_str = re.sub(r\"[^A-Za-z0-9 ]+\", \"\", in_str)\n",
    "    except Exception as e:\n",
    "        print(e)\n",
    "    return f_str\n",
    "\n",
    "def load_datasrc_config(path=\"datasources_config/config_src.json\"):\n",
    "    \"\"\"\n",
    "    Load datasrc configuration given datasrc_name\n",
    "    \"\"\"\n",
    "    config = load_json(path)\n",
    "    return config\n",
    "\n",
    "\n",
    "\n",
    "def load_json(filepath):\n",
    "    \"\"\"\n",
    "    load json file\n",
    "    \"\"\"\n",
    "    with open(filepath) as f:\n",
    "        res_json = json.load(f)\n",
    "    return res_json"
   ]
  },
  {
   "cell_type": "code",
   "execution_count": 2,
   "metadata": {},
   "outputs": [],
   "source": [
    "config=load_datasrc_config()"
   ]
  },
  {
   "cell_type": "code",
   "execution_count": 3,
   "metadata": {},
   "outputs": [],
   "source": [
    "data_src_config=config['drugs']['file_prepocess']\n"
   ]
  },
  {
   "cell_type": "code",
   "execution_count": 4,
   "metadata": {},
   "outputs": [],
   "source": [
    "import pandas as pd\n",
    "df_ct = pd.read_csv('input/drugs.csv', encoding=\"utf-8\")"
   ]
  },
  {
   "cell_type": "code",
   "execution_count": 9,
   "metadata": {},
   "outputs": [
    {
     "data": {
      "text/html": [
       "<div>\n",
       "<style scoped>\n",
       "    .dataframe tbody tr th:only-of-type {\n",
       "        vertical-align: middle;\n",
       "    }\n",
       "\n",
       "    .dataframe tbody tr th {\n",
       "        vertical-align: top;\n",
       "    }\n",
       "\n",
       "    .dataframe thead th {\n",
       "        text-align: right;\n",
       "    }\n",
       "</style>\n",
       "<table border=\"1\" class=\"dataframe\">\n",
       "  <thead>\n",
       "    <tr style=\"text-align: right;\">\n",
       "      <th></th>\n",
       "      <th>atccode</th>\n",
       "      <th>drug</th>\n",
       "    </tr>\n",
       "  </thead>\n",
       "  <tbody>\n",
       "    <tr>\n",
       "      <th>0</th>\n",
       "      <td>A04AD</td>\n",
       "      <td>DIPHENHYDRAMINE</td>\n",
       "    </tr>\n",
       "    <tr>\n",
       "      <th>1</th>\n",
       "      <td>S03AA</td>\n",
       "      <td>TETRACYCLINE</td>\n",
       "    </tr>\n",
       "    <tr>\n",
       "      <th>2</th>\n",
       "      <td>V03AB</td>\n",
       "      <td>ETHANOL</td>\n",
       "    </tr>\n",
       "    <tr>\n",
       "      <th>3</th>\n",
       "      <td>A03BA</td>\n",
       "      <td>ATROPINE</td>\n",
       "    </tr>\n",
       "    <tr>\n",
       "      <th>4</th>\n",
       "      <td>A01AD</td>\n",
       "      <td>EPINEPHRINE</td>\n",
       "    </tr>\n",
       "    <tr>\n",
       "      <th>5</th>\n",
       "      <td>6302001</td>\n",
       "      <td>ISOPRENALINE</td>\n",
       "    </tr>\n",
       "    <tr>\n",
       "      <th>6</th>\n",
       "      <td>R01AD</td>\n",
       "      <td>BETAMETHASONE</td>\n",
       "    </tr>\n",
       "  </tbody>\n",
       "</table>\n",
       "</div>"
      ],
      "text/plain": [
       "   atccode             drug\n",
       "0    A04AD  DIPHENHYDRAMINE\n",
       "1    S03AA     TETRACYCLINE\n",
       "2    V03AB          ETHANOL\n",
       "3    A03BA         ATROPINE\n",
       "4    A01AD      EPINEPHRINE\n",
       "5  6302001     ISOPRENALINE\n",
       "6    R01AD    BETAMETHASONE"
      ]
     },
     "execution_count": 9,
     "metadata": {},
     "output_type": "execute_result"
    }
   ],
   "source": [
    "clean_df(df_ct,data_src_config)"
   ]
  },
  {
   "cell_type": "code",
   "execution_count": 5,
   "metadata": {},
   "outputs": [],
   "source": [
    "\n",
    "df_ct.dropna(subset=data_src_config[\"no_nansvalue\"], axis=0, inplace=True)"
   ]
  },
  {
   "cell_type": "code",
   "execution_count": 6,
   "metadata": {},
   "outputs": [
    {
     "data": {
      "text/plain": [
       "['atccode', 'drug']"
      ]
     },
     "execution_count": 6,
     "metadata": {},
     "output_type": "execute_result"
    }
   ],
   "source": [
    "data_src_config[\"no_nansvalue\"]"
   ]
  },
  {
   "cell_type": "raw",
   "metadata": {},
   "source": [
    "data_src_config"
   ]
  },
  {
   "cell_type": "code",
   "execution_count": null,
   "metadata": {},
   "outputs": [],
   "source": []
  }
 ],
 "metadata": {
  "kernelspec": {
   "display_name": "Python 3",
   "language": "python",
   "name": "python3"
  },
  "language_info": {
   "codemirror_mode": {
    "name": "ipython",
    "version": 3
   },
   "file_extension": ".py",
   "mimetype": "text/x-python",
   "name": "python",
   "nbconvert_exporter": "python",
   "pygments_lexer": "ipython3",
   "version": "3.8.3"
  }
 },
 "nbformat": 4,
 "nbformat_minor": 4
}
